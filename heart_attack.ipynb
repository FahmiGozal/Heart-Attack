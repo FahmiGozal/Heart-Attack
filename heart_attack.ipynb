{
 "cells": [
  {
   "cell_type": "code",
   "execution_count": null,
   "metadata": {},
   "outputs": [],
   "source": [
    "import numpy as np\n",
    "import pandas as pd\n",
    "import PIL as Image\n",
    "\n",
    "import matplitlib.pyplot as pyplot\n",
    "from sklearn.model_selection import train_test_split\n",
    "\n",
    "from sklearn import pipeline      # Pipeline\n",
    "from sklearn.preprocessing import OrdinalEncoder\n",
    "from sklearn.preprocessing import LabelEncoder  # OrdinalEncoder, LabelEncoder\n",
    "from sklearn import impute\n",
    "from sklearn import compose\n",
    "from sklearn.metrics import accuracy_score\n",
    "from sklearn.metrics import balanced_accuracy_score\n",
    "from sklearn.metrics import plot_confusion_matrix         # accuracy_score, balanced_accuracy_score, plot_confusion_matrix\n",
    "from sklearn import set_config\n",
    "\n",
    "set_config(display='diagram') # Useful for display the pipeline"
   ]
  },
  {
   "cell_type": "markdown",
   "metadata": {},
   "source": [
    "![image](data/attribute_information.png)"
   ]
  },
  {
   "cell_type": "markdown",
   "metadata": {},
   "source": [
    "-- Complete attribute documentation:\r\n",
    "1. age: age in years # Numerical - Discrete\r\n",
    "\r\n",
    "2. sex: sex (1 = male; 0 = female)                                              # Categorical - Nominal\r\n",
    "\r\n",
    "3. cp: chest pain type                                                          # Categorical - Nominal\r\n",
    "-- Value 1: typical angina\r\n",
    "-- Value 2: atypical angina\r\n",
    "-- Value 3: non-anginal pain\r\n",
    "-- Value 4: asymptomatic\r\n",
    "\r\n",
    "4. trestbps: resting blood pressure (in mm Hg on admission to the hospital)     # Numerical - Continuous\r\n",
    "\r\n",
    "5. chol: serum cholestoral in mg/dl                                             # Numerical - Continuous\r\n",
    "\r\n",
    "6. fbs: (fasting blood sugar > 120 mg/dl) (1 = true; 0 = false)                 # Categorical - Ordinal\r\n",
    "\r\n",
    "7. restecg: resting electrocardiographic results                                # Categorical - Ordinal\r\n",
    "-- Value 0: normal\r\n",
    "-- Value 1: having ST-T wave abnormality (T wave inversions and/or ST\r\n",
    "elevation or depression of > 0.05 mV)\r\n",
    "-- Value 2: showing probable or definite left ventricular hypertrophy\r\n",
    "by Estes' criteria\r\n",
    "\r\n",
    "8. thalach: maximum heart rate achieved                                         # Numerical Continuous\r\n",
    "\r\n",
    "9. exang: exercise induced angina (1 = yes; 0 = no)                             # Categorical - Nominal\r\n",
    "\r\n",
    "10. oldpeak = ST depression induced by exercise relative to rest                # Numerical Continous\r\n",
    "\r\n",
    "11. slope: the slope of the peak exercise ST segment                            # Categorical - Nominal\r\n",
    "-- Value 1: upsloping\r\n",
    "-- Value 2: flat\r\n",
    "-- Value 3: downsloping\r\n",
    "\r\n",
    "12. ca: number of major vessels (0-3) colored by flourosopy                     # Categorical - Ordinal\r\n",
    "\r\n",
    "13. thal: 3 = normal; 6 = fixed defect; 7 = reversable defect                   # Categorical - Nominal\r\n",
    "\r\n",
    "14. num: diagnosis of heart disease (angiographic disease status)               # Target\r\n",
    "-- Value 0: < 50% diameter narrowing -- Value 1: > 50% diameter narrowing\r\n",
    "(in any major vessel: attributes 59 through 68 are vessels)\r\n"
   ]
  },
  {
   "cell_type": "code",
   "execution_count": null,
   "metadata": {},
   "outputs": [],
   "source": [
    "data = pd.read_csv(\"data/data.csv\")\r\n",
    "\r\n"
   ]
  },
  {
   "cell_type": "code",
   "execution_count": null,
   "metadata": {},
   "outputs": [],
   "source": [
    "data = data.replace('?', np.nan)\r\n",
    "\r\n",
    "data.isnull().sum()\r\n",
    "\r\n",
    "data = data.drop(['slope', 'ca', 'thal'], axis=1)"
   ]
  },
  {
   "cell_type": "code",
   "execution_count": null,
   "metadata": {},
   "outputs": [],
   "source": [
    "data"
   ]
  },
  {
   "cell_type": "code",
   "execution_count": null,
   "metadata": {},
   "outputs": [],
   "source": [
    "data.shape"
   ]
  },
  {
   "cell_type": "code",
   "execution_count": null,
   "metadata": {},
   "outputs": [],
   "source": [
    "# KMeans"
   ]
  }
 ],
 "metadata": {
  "interpreter": {
   "hash": "850c152f8f84f3548ed5f09fd834180be13dced819bcdf283d955f3afcab8cf5"
  },
  "kernelspec": {
   "display_name": "Python 3.8.10 64-bit ('myenv': conda)",
   "name": "python3"
  },
  "language_info": {
   "codemirror_mode": {
    "name": "ipython",
    "version": 3
   },
   "file_extension": ".py",
   "mimetype": "text/x-python",
   "name": "python",
   "nbconvert_exporter": "python",
   "pygments_lexer": "ipython3",
   "version": "3.8.10"
  },
  "orig_nbformat": 4
 },
 "nbformat": 4,
 "nbformat_minor": 2
}