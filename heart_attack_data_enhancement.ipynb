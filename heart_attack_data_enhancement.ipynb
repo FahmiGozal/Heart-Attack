{
 "cells": [
  {
   "cell_type": "code",
   "execution_count": 95,
   "metadata": {},
   "outputs": [],
   "source": [
    "import numpy as np\r\n",
    "import pandas as pd\r\n",
    "import PIL as Image\r\n",
    "import math\r\n",
    "import matplotlib.pyplot as plt\r\n",
    "import seaborn as sns"
   ]
  },
  {
   "cell_type": "markdown",
   "metadata": {},
   "source": [
    "![image](data/attribute_information.png)"
   ]
  },
  {
   "cell_type": "markdown",
   "metadata": {},
   "source": [
    "-- Complete attribute documentation:\r\n",
    "1. age: age in years # Numerical - Discrete\r\n",
    "\r\n",
    "2. sex: sex (1 = male; 0 = female)                                              # Categorical - Nominal\r\n",
    "\r\n",
    "3. cp: chest pain type                                                          # Categorical - Nominal\r\n",
    "-- Value 1: typical angina\r\n",
    "-- Value 2: atypical angina\r\n",
    "-- Value 3: non-anginal pain\r\n",
    "-- Value 4: asymptomatic\r\n",
    "\r\n",
    "4. trestbps: resting blood pressure (in mm Hg on admission to the hospital)     # Numerical - Continuous\r\n",
    "\r\n",
    "5. chol: serum cholestoral in mg/dl                                             # Numerical - Continuous\r\n",
    "\r\n",
    "6. fbs: (fasting blood sugar > 120 mg/dl) (1 = true; 0 = false)                 # Categorical - Ordinal\r\n",
    "\r\n",
    "7. restecg: resting electrocardiographic results                                # Categorical - Ordinal\r\n",
    "-- Value 0: normal\r\n",
    "-- Value 1: having ST-T wave abnormality (T wave inversions and/or ST\r\n",
    "elevation or depression of > 0.05 mV)\r\n",
    "-- Value 2: showing probable or definite left ventricular hypertrophy\r\n",
    "by Estes' criteria\r\n",
    "\r\n",
    "8. thalach: maximum heart rate achieved                                         # Numerical Continuous\r\n",
    "\r\n",
    "9. exang: exercise induced angina (1 = yes; 0 = no)                             # Categorical - Nominal\r\n",
    "\r\n",
    "10. oldpeak = ST depression induced by exercise relative to rest                # Numerical Continous\r\n",
    "\r\n",
    "11. slope: the slope of the peak exercise ST segment                            # Categorical - Nominal\r\n",
    "-- Value 1: upsloping\r\n",
    "-- Value 2: flat\r\n",
    "-- Value 3: downsloping\r\n",
    "\r\n",
    "12. ca: number of major vessels (0-3) colored by flourosopy                     # Categorical - Ordinal\r\n",
    "\r\n",
    "13. thal: 3 = normal; 6 = fixed defect; 7 = reversable defect                   # Categorical - Nominal\r\n",
    "\r\n",
    "14. num: diagnosis of heart disease (angiographic disease status)               # Target\r\n",
    "-- Value 0: < 50% diameter narrowing -- Value 1: > 50% diameter narrowing\r\n",
    "(in any major vessel: attributes 59 through 68 are vessels)\r\n"
   ]
  },
  {
   "cell_type": "code",
   "execution_count": null,
   "metadata": {},
   "outputs": [],
   "source": [
    "\r\n",
    "\r\n"
   ]
  },
  {
   "cell_type": "code",
   "execution_count": 69,
   "metadata": {},
   "outputs": [
    {
     "data": {
      "text/html": [
       "<div>\n",
       "<style scoped>\n",
       "    .dataframe tbody tr th:only-of-type {\n",
       "        vertical-align: middle;\n",
       "    }\n",
       "\n",
       "    .dataframe tbody tr th {\n",
       "        vertical-align: top;\n",
       "    }\n",
       "\n",
       "    .dataframe thead th {\n",
       "        text-align: right;\n",
       "    }\n",
       "</style>\n",
       "<table border=\"1\" class=\"dataframe\">\n",
       "  <thead>\n",
       "    <tr style=\"text-align: right;\">\n",
       "      <th></th>\n",
       "      <th>age</th>\n",
       "      <th>sex</th>\n",
       "      <th>cp</th>\n",
       "      <th>trestbps</th>\n",
       "      <th>chol</th>\n",
       "      <th>fbs</th>\n",
       "      <th>restecg</th>\n",
       "      <th>thalach</th>\n",
       "      <th>exang</th>\n",
       "      <th>oldpeak</th>\n",
       "      <th>num</th>\n",
       "    </tr>\n",
       "  </thead>\n",
       "  <tbody>\n",
       "    <tr>\n",
       "      <th>0</th>\n",
       "      <td>28</td>\n",
       "      <td>1</td>\n",
       "      <td>2</td>\n",
       "      <td>130</td>\n",
       "      <td>132</td>\n",
       "      <td>0</td>\n",
       "      <td>2</td>\n",
       "      <td>185</td>\n",
       "      <td>0</td>\n",
       "      <td>0.0</td>\n",
       "      <td>0</td>\n",
       "    </tr>\n",
       "    <tr>\n",
       "      <th>1</th>\n",
       "      <td>29</td>\n",
       "      <td>1</td>\n",
       "      <td>2</td>\n",
       "      <td>120</td>\n",
       "      <td>243</td>\n",
       "      <td>0</td>\n",
       "      <td>0</td>\n",
       "      <td>160</td>\n",
       "      <td>0</td>\n",
       "      <td>0.0</td>\n",
       "      <td>0</td>\n",
       "    </tr>\n",
       "    <tr>\n",
       "      <th>2</th>\n",
       "      <td>29</td>\n",
       "      <td>1</td>\n",
       "      <td>2</td>\n",
       "      <td>140</td>\n",
       "      <td>NaN</td>\n",
       "      <td>0</td>\n",
       "      <td>0</td>\n",
       "      <td>170</td>\n",
       "      <td>0</td>\n",
       "      <td>0.0</td>\n",
       "      <td>0</td>\n",
       "    </tr>\n",
       "    <tr>\n",
       "      <th>3</th>\n",
       "      <td>30</td>\n",
       "      <td>0</td>\n",
       "      <td>1</td>\n",
       "      <td>170</td>\n",
       "      <td>237</td>\n",
       "      <td>0</td>\n",
       "      <td>1</td>\n",
       "      <td>170</td>\n",
       "      <td>0</td>\n",
       "      <td>0.0</td>\n",
       "      <td>0</td>\n",
       "    </tr>\n",
       "    <tr>\n",
       "      <th>4</th>\n",
       "      <td>31</td>\n",
       "      <td>0</td>\n",
       "      <td>2</td>\n",
       "      <td>100</td>\n",
       "      <td>219</td>\n",
       "      <td>0</td>\n",
       "      <td>1</td>\n",
       "      <td>150</td>\n",
       "      <td>0</td>\n",
       "      <td>0.0</td>\n",
       "      <td>0</td>\n",
       "    </tr>\n",
       "    <tr>\n",
       "      <th>...</th>\n",
       "      <td>...</td>\n",
       "      <td>...</td>\n",
       "      <td>...</td>\n",
       "      <td>...</td>\n",
       "      <td>...</td>\n",
       "      <td>...</td>\n",
       "      <td>...</td>\n",
       "      <td>...</td>\n",
       "      <td>...</td>\n",
       "      <td>...</td>\n",
       "      <td>...</td>\n",
       "    </tr>\n",
       "    <tr>\n",
       "      <th>289</th>\n",
       "      <td>52</td>\n",
       "      <td>1</td>\n",
       "      <td>4</td>\n",
       "      <td>160</td>\n",
       "      <td>331</td>\n",
       "      <td>0</td>\n",
       "      <td>0</td>\n",
       "      <td>94</td>\n",
       "      <td>1</td>\n",
       "      <td>2.5</td>\n",
       "      <td>1</td>\n",
       "    </tr>\n",
       "    <tr>\n",
       "      <th>290</th>\n",
       "      <td>54</td>\n",
       "      <td>0</td>\n",
       "      <td>3</td>\n",
       "      <td>130</td>\n",
       "      <td>294</td>\n",
       "      <td>0</td>\n",
       "      <td>1</td>\n",
       "      <td>100</td>\n",
       "      <td>1</td>\n",
       "      <td>0.0</td>\n",
       "      <td>1</td>\n",
       "    </tr>\n",
       "    <tr>\n",
       "      <th>291</th>\n",
       "      <td>56</td>\n",
       "      <td>1</td>\n",
       "      <td>4</td>\n",
       "      <td>155</td>\n",
       "      <td>342</td>\n",
       "      <td>1</td>\n",
       "      <td>0</td>\n",
       "      <td>150</td>\n",
       "      <td>1</td>\n",
       "      <td>3.0</td>\n",
       "      <td>1</td>\n",
       "    </tr>\n",
       "    <tr>\n",
       "      <th>292</th>\n",
       "      <td>58</td>\n",
       "      <td>0</td>\n",
       "      <td>2</td>\n",
       "      <td>180</td>\n",
       "      <td>393</td>\n",
       "      <td>0</td>\n",
       "      <td>0</td>\n",
       "      <td>110</td>\n",
       "      <td>1</td>\n",
       "      <td>1.0</td>\n",
       "      <td>1</td>\n",
       "    </tr>\n",
       "    <tr>\n",
       "      <th>293</th>\n",
       "      <td>65</td>\n",
       "      <td>1</td>\n",
       "      <td>4</td>\n",
       "      <td>130</td>\n",
       "      <td>275</td>\n",
       "      <td>0</td>\n",
       "      <td>1</td>\n",
       "      <td>115</td>\n",
       "      <td>1</td>\n",
       "      <td>1.0</td>\n",
       "      <td>1</td>\n",
       "    </tr>\n",
       "  </tbody>\n",
       "</table>\n",
       "<p>294 rows × 11 columns</p>\n",
       "</div>"
      ],
      "text/plain": [
       "     age  sex  cp trestbps chol fbs restecg thalach exang  oldpeak  num       \n",
       "0     28    1   2      130  132   0       2     185     0      0.0           0\n",
       "1     29    1   2      120  243   0       0     160     0      0.0           0\n",
       "2     29    1   2      140  NaN   0       0     170     0      0.0           0\n",
       "3     30    0   1      170  237   0       1     170     0      0.0           0\n",
       "4     31    0   2      100  219   0       1     150     0      0.0           0\n",
       "..   ...  ...  ..      ...  ...  ..     ...     ...   ...      ...         ...\n",
       "289   52    1   4      160  331   0       0      94     1      2.5           1\n",
       "290   54    0   3      130  294   0       1     100     1      0.0           1\n",
       "291   56    1   4      155  342   1       0     150     1      3.0           1\n",
       "292   58    0   2      180  393   0       0     110     1      1.0           1\n",
       "293   65    1   4      130  275   0       1     115     1      1.0           1\n",
       "\n",
       "[294 rows x 11 columns]"
      ]
     },
     "execution_count": 69,
     "metadata": {},
     "output_type": "execute_result"
    }
   ],
   "source": [
    "data = pd.read_csv(\"data/data.csv\")\r\n",
    "\r\n",
    "data = data.replace('?', np.nan)\r\n",
    "\r\n",
    "data.isnull().sum()\r\n",
    "\r\n",
    "data = data.drop(['slope', 'ca', 'thal'], axis=1)\r\n",
    "\r\n",
    "data"
   ]
  },
  {
   "cell_type": "code",
   "execution_count": 70,
   "metadata": {},
   "outputs": [
    {
     "data": {
      "text/plain": [
       "age             int64\n",
       "sex             int64\n",
       "cp              int64\n",
       "trestbps       object\n",
       "chol           object\n",
       "fbs            object\n",
       "restecg        object\n",
       "thalach        object\n",
       "exang          object\n",
       "oldpeak       float64\n",
       "num             int64\n",
       "dtype: object"
      ]
     },
     "execution_count": 70,
     "metadata": {},
     "output_type": "execute_result"
    }
   ],
   "source": [
    "data.dtypes\r\n"
   ]
  },
  {
   "cell_type": "code",
   "execution_count": 71,
   "metadata": {},
   "outputs": [
    {
     "data": {
      "text/plain": [
       "age            0\n",
       "sex            0\n",
       "cp             0\n",
       "trestbps       1\n",
       "chol          23\n",
       "fbs            8\n",
       "restecg        1\n",
       "thalach        1\n",
       "exang          1\n",
       "oldpeak        0\n",
       "num            0\n",
       "dtype: int64"
      ]
     },
     "execution_count": 71,
     "metadata": {},
     "output_type": "execute_result"
    }
   ],
   "source": [
    "data.isnull().sum()"
   ]
  },
  {
   "cell_type": "code",
   "execution_count": 125,
   "metadata": {},
   "outputs": [],
   "source": [
    "data.columns\r\n",
    "data.rename(columns={'num       ':'target'},inplace=True)"
   ]
  },
  {
   "cell_type": "code",
   "execution_count": 126,
   "metadata": {},
   "outputs": [],
   "source": [
    "#Change the String into Floats\r\n",
    "\r\n",
    "\r\n",
    "data['trestbps'] = data['trestbps'].astype('float64')\r\n",
    "data['chol'] = data['chol'].astype('float64')\r\n",
    "data['thalach'] = data['thalach'].astype('float64')\r\n",
    "data['target'] = data['target'].astype('float64')\r\n"
   ]
  },
  {
   "cell_type": "code",
   "execution_count": 127,
   "metadata": {},
   "outputs": [
    {
     "data": {
      "text/plain": [
       "age           int64\n",
       "sex           int64\n",
       "cp            int64\n",
       "trestbps    float64\n",
       "chol        float64\n",
       "fbs          object\n",
       "restecg      object\n",
       "thalach     float64\n",
       "exang        object\n",
       "oldpeak     float64\n",
       "target      float64\n",
       "dtype: object"
      ]
     },
     "execution_count": 127,
     "metadata": {},
     "output_type": "execute_result"
    }
   ],
   "source": [
    "data.dtypes"
   ]
  },
  {
   "cell_type": "code",
   "execution_count": 79,
   "metadata": {},
   "outputs": [
    {
     "data": {
      "text/plain": [
       "250.84870848708488"
      ]
     },
     "execution_count": 79,
     "metadata": {},
     "output_type": "execute_result"
    }
   ],
   "source": [
    "chol_mean = data['chol'].mean()\r\n",
    "\r\n",
    "data['chol']=data['chol'].replace(np.nan, data['chol'].mean())\r\n",
    "\r\n",
    "chol_mean"
   ]
  },
  {
   "cell_type": "code",
   "execution_count": 182,
   "metadata": {},
   "outputs": [
    {
     "data": {
      "text/plain": [
       "-9.667248105579594e-17"
      ]
     },
     "execution_count": 182,
     "metadata": {},
     "output_type": "execute_result"
    }
   ],
   "source": [
    "from sklearn.preprocessing import StandardScaler\r\n",
    "\r\n",
    "chol_age_div = lambda x, y: x/y\r\n",
    "chol_age_mult = lambda x, y: x**y\r\n",
    "\r\n",
    "data['chol/age'] = chol_age_div(data['chol'], data['age'])\r\n",
    "data['chol**age'] = chol_age_mult(data['chol'], data['age'])\r\n",
    "\r\n",
    "chol = data['chol'].values\r\n",
    "\r\n",
    "chol.shape\r\n",
    "\r\n",
    "chol = chol.reshape(-1,1)\r\n",
    "\r\n",
    "scaler = StandardScaler()\r\n",
    "\r\n",
    "model = scaler.fit_transform(chol)\r\n",
    "\r\n",
    "model.mean()"
   ]
  },
  {
   "cell_type": "code",
   "execution_count": null,
   "metadata": {},
   "outputs": [],
   "source": []
  },
  {
   "cell_type": "code",
   "execution_count": 150,
   "metadata": {},
   "outputs": [
    {
     "data": {
      "text/plain": [
       "<AxesSubplot:xlabel='chol/age', ylabel='target'>"
      ]
     },
     "execution_count": 150,
     "metadata": {},
     "output_type": "execute_result"
    },
    {
     "data": {
      "image/png": "[encoded data removed]",
      "text/plain": [
       "<Figure size 432x288 with 1 Axes>"
      ]
     },
     "metadata": {
      "needs_background": "light"
     },
     "output_type": "display_data"
    }
   ],
   "source": [
    "sns.scatterplot(data=data, x='chol/age', y='target', hue = 'sex')"
   ]
  },
  {
   "cell_type": "code",
   "execution_count": 156,
   "metadata": {},
   "outputs": [
    {
     "data": {
      "text/plain": [
       "[None]"
      ]
     },
     "execution_count": 156,
     "metadata": {},
     "output_type": "execute_result"
    },
    {
     "data": {
      "image/png": "[encoded data removed]",
      "text/plain": [
       "<Figure size 432x288 with 1 Axes>"
      ]
     },
     "metadata": {
      "needs_background": "light"
     },
     "output_type": "display_data"
    }
   ],
   "source": [
    "f = sns.scatterplot(data=data, x='chol**age', y='target', hue = 'sex')\r\n",
    "f.set(xscale=\"log\")"
   ]
  },
  {
   "cell_type": "code",
   "execution_count": 91,
   "metadata": {},
   "outputs": [
    {
     "name": "stdout",
     "output_type": "stream",
     "text": [
      "(294, 2)\n"
     ]
    }
   ],
   "source": [
    "# # UNUSED\r\n",
    "\r\n",
    "# # KMeans Clustering - 1\r\n",
    "# # Age vs Cholesterol\r\n",
    "\r\n",
    "\r\n",
    "\r\n",
    "# from sklearn.cluster import KMeans\r\n",
    "\r\n",
    "# points_for_cluster = data[['age', 'chol']].values\r\n",
    "\r\n",
    "\r\n",
    "\r\n",
    "# #Define the KMeans Model\r\n",
    "# model = KMeans(n_clusters=4)\r\n",
    "\r\n",
    "# #Cluster the Points using fit function\r\n",
    "# cluster = model.fit(points_for_cluster)\r\n",
    "\r\n",
    "# #Assign the Labels\r\n",
    "# labels = model.predict(points_for_cluster)\r\n",
    "\r\n",
    "# print(points_for_cluster.shape)\r\n"
   ]
  },
  {
   "cell_type": "code",
   "execution_count": 92,
   "metadata": {},
   "outputs": [
    {
     "name": "stdout",
     "output_type": "stream",
     "text": [
      "(139, 2)\n",
      "(36, 2)\n",
      "(113, 2)\n",
      "(6, 2)\n"
     ]
    }
   ],
   "source": [
    "# UNUSED\r\n",
    "\r\n",
    "# # KMeans Clustering - 2\r\n",
    "# # Separate Labels\r\n",
    "\r\n",
    "# def separate_labels(labels, points):\r\n",
    "#     data_0 = []\r\n",
    "#     data_1 = []\r\n",
    "#     data_2 = []\r\n",
    "#     data_3 = []\r\n",
    "\r\n",
    "#     ### BEGIN SOLUTION\r\n",
    "#     for i in range(labels.shape[0]):\r\n",
    "#         if labels[i] == 0:\r\n",
    "#             data_0.append(points[i])\r\n",
    "#         elif labels[i] == 1:\r\n",
    "#             data_1.append(points[i])\r\n",
    "#         elif labels[i] == 2:\r\n",
    "#             data_2.append(points[i])\r\n",
    "#         else:\r\n",
    "#             data_3.append(points[i])\r\n",
    "\r\n",
    "#     data_0 = np.array(data_0)\r\n",
    "#     data_1 = np.array(data_1)\r\n",
    "#     data_2 = np.array(data_2)\r\n",
    "#     data_3 = np.array(data_3)\r\n",
    "    \r\n",
    "#     ### END SOLUTION\r\n",
    "#     return data_0,data_1,data_2, data_3\r\n",
    "\r\n",
    "# print(data_0.shape)\r\n",
    "# print(data_1.shape)\r\n",
    "# print(data_2.shape)\r\n",
    "# print(data_3.shape)"
   ]
  },
  {
   "cell_type": "code",
   "execution_count": 100,
   "metadata": {},
   "outputs": [
    {
     "data": {
      "text/plain": [
       "<matplotlib.collections.PathCollection at 0x194373f56a0>"
      ]
     },
     "execution_count": 100,
     "metadata": {},
     "output_type": "execute_result"
    },
    {
     "data": {
      "image/png": "[encoded data removed]",
      "text/plain": [
       "<Figure size 432x288 with 1 Axes>"
      ]
     },
     "metadata": {
      "needs_background": "light"
     },
     "output_type": "display_data"
    }
   ],
   "source": [
    "# UNUSED\r\n",
    "\r\n",
    "# data_0, data_1, data_2, data_3 = separate_labels(labels, points_for_cluster)\r\n",
    "\r\n",
    "# plt.scatter(data_0[:,0],data_0[:,1], c = \"red\", label=\"0\")\r\n",
    "# plt.scatter(data_1[:,0],data_1[:,1], c = \"green\", label=\"1\")\r\n",
    "# plt.scatter(data_2[:,0],data_2[:,1], c = \"blue\", label=\"2\")\r\n",
    "# plt.scatter(data_3[:,0],data_3[:,1], c = \"black\", label=\"3\")\r\n"
   ]
  },
  {
   "cell_type": "code",
   "execution_count": 133,
   "metadata": {},
   "outputs": [
    {
     "data": {
      "text/plain": [
       "Text(0, 0.5, 'Cholesterol')"
      ]
     },
     "execution_count": 133,
     "metadata": {},
     "output_type": "execute_result"
    },
    {
     "data": {
      "image/png": "[encoded data removed]",
      "text/plain": [
       "<Figure size 432x288 with 1 Axes>"
      ]
     },
     "metadata": {
      "needs_background": "light"
     },
     "output_type": "display_data"
    }
   ],
   "source": [
    "# UNUSED\r\n",
    "\r\n",
    "# import seaborn as sns\r\n",
    "\r\n",
    "# label = data.columns[-1]\r\n",
    "\r\n",
    "# sns.scatterplot(data=data, x='age', y='chol', hue='target')\r\n",
    "# plt.title('Age vs Cholesterol')\r\n",
    "# plt.ylabel('Cholesterol')\r\n"
   ]
  },
  {
   "cell_type": "code",
   "execution_count": 97,
   "metadata": {},
   "outputs": [
    {
     "name": "stdout",
     "output_type": "stream",
     "text": [
      "17.62656787597232\n",
      "64.94793916831776\n",
      "23.58974931724648\n"
     ]
    },
    {
     "data": {
      "text/plain": [
       "<matplotlib.collections.PathCollection at 0x1943a0b43a0>"
      ]
     },
     "execution_count": 97,
     "metadata": {},
     "output_type": "execute_result"
    },
    {
     "data": {
      "image/png": "[encoded data removed]",
      "text/plain": [
       "<Figure size 432x288 with 1 Axes>"
      ]
     },
     "metadata": {
      "needs_background": "light"
     },
     "output_type": "display_data"
    }
   ],
   "source": [
    "#For Sense Check, seeing the values for Standard Deviation for proposed enhanced data\r\n",
    "print(data['trestbps'].std())\r\n",
    "print(data['chol'].std())\r\n",
    "print(data['thalach'].std())\r\n",
    "\r\n",
    "\r\n"
   ]
  },
  {
   "cell_type": "code",
   "execution_count": 76,
   "metadata": {},
   "outputs": [],
   "source": [
    "# Data Enhancement\r\n",
    "# Data to Enhance : \r\n",
    "#   1. trestbps : Resting Blood Presure\r\n",
    "#   2. chol     : Cholesterol\r\n",
    "#   3. thalach  : Maximum Heart Rate Achieved\r\n",
    "\r\n",
    "#Case 1: Data Enhancement without Generated Features\r\n",
    "\r\n",
    "def data_enhancement_1(data):\r\n",
    "    \r\n",
    "    #Copy the initial dataframe to a dummy dataframe\r\n",
    "    generated_data = data.copy()\r\n",
    "\r\n",
    "    #Calculate the std for each parameter\r\n",
    "    trestbps_std = generated_data['trestbps'].std()\r\n",
    "    chol_std = generated_data['chol'].std()\r\n",
    "    thalach_std = generated_data['thalach'].std()\r\n",
    "\r\n",
    "    for i in range(data.shape[0]):\r\n",
    "        if np.random.randint(2) == 1:\r\n",
    "            generated_data['trestbps'].values[i] += trestbps_std\r\n",
    "        else:\r\n",
    "            generated_data['trestbps'].values[i] -= trestbps_std\r\n",
    "\r\n",
    "        if np.random.randint(2) == 1:\r\n",
    "            generated_data['chol'].values[i] += chol_std\r\n",
    "        else:\r\n",
    "            generated_data['chol'].values[i] -= chol_std\r\n",
    "\r\n",
    "        if np.random.randint(2) == 1:\r\n",
    "            generated_data['thalach'].values[i] += thalach_std\r\n",
    "        else:\r\n",
    "            generated_data['thalach'].values[i] -= thalach_std\r\n",
    "    \r\n",
    "    return generated_data\r\n",
    "\r\n",
    "\r\n",
    "    \r\n"
   ]
  },
  {
   "cell_type": "code",
   "execution_count": null,
   "metadata": {},
   "outputs": [],
   "source": []
  },
  {
   "cell_type": "code",
   "execution_count": 77,
   "metadata": {},
   "outputs": [
    {
     "data": {
      "text/html": [
       "<div>\n",
       "<style scoped>\n",
       "    .dataframe tbody tr th:only-of-type {\n",
       "        vertical-align: middle;\n",
       "    }\n",
       "\n",
       "    .dataframe tbody tr th {\n",
       "        vertical-align: top;\n",
       "    }\n",
       "\n",
       "    .dataframe thead th {\n",
       "        text-align: right;\n",
       "    }\n",
       "</style>\n",
       "<table border=\"1\" class=\"dataframe\">\n",
       "  <thead>\n",
       "    <tr style=\"text-align: right;\">\n",
       "      <th></th>\n",
       "      <th>age</th>\n",
       "      <th>sex</th>\n",
       "      <th>cp</th>\n",
       "      <th>trestbps</th>\n",
       "      <th>chol</th>\n",
       "      <th>fbs</th>\n",
       "      <th>restecg</th>\n",
       "      <th>thalach</th>\n",
       "      <th>exang</th>\n",
       "      <th>oldpeak</th>\n",
       "      <th>num</th>\n",
       "    </tr>\n",
       "  </thead>\n",
       "  <tbody>\n",
       "    <tr>\n",
       "      <th>0</th>\n",
       "      <td>28</td>\n",
       "      <td>1</td>\n",
       "      <td>2</td>\n",
       "      <td>147.626568</td>\n",
       "      <td>67.052061</td>\n",
       "      <td>0</td>\n",
       "      <td>2</td>\n",
       "      <td>161.410251</td>\n",
       "      <td>0</td>\n",
       "      <td>0.0</td>\n",
       "      <td>0</td>\n",
       "    </tr>\n",
       "    <tr>\n",
       "      <th>1</th>\n",
       "      <td>29</td>\n",
       "      <td>1</td>\n",
       "      <td>2</td>\n",
       "      <td>137.626568</td>\n",
       "      <td>178.052061</td>\n",
       "      <td>0</td>\n",
       "      <td>0</td>\n",
       "      <td>183.589749</td>\n",
       "      <td>0</td>\n",
       "      <td>0.0</td>\n",
       "      <td>0</td>\n",
       "    </tr>\n",
       "    <tr>\n",
       "      <th>2</th>\n",
       "      <td>29</td>\n",
       "      <td>1</td>\n",
       "      <td>2</td>\n",
       "      <td>157.626568</td>\n",
       "      <td>315.796648</td>\n",
       "      <td>0</td>\n",
       "      <td>0</td>\n",
       "      <td>146.410251</td>\n",
       "      <td>0</td>\n",
       "      <td>0.0</td>\n",
       "      <td>0</td>\n",
       "    </tr>\n",
       "    <tr>\n",
       "      <th>3</th>\n",
       "      <td>30</td>\n",
       "      <td>0</td>\n",
       "      <td>1</td>\n",
       "      <td>152.373432</td>\n",
       "      <td>172.052061</td>\n",
       "      <td>0</td>\n",
       "      <td>1</td>\n",
       "      <td>146.410251</td>\n",
       "      <td>0</td>\n",
       "      <td>0.0</td>\n",
       "      <td>0</td>\n",
       "    </tr>\n",
       "    <tr>\n",
       "      <th>4</th>\n",
       "      <td>31</td>\n",
       "      <td>0</td>\n",
       "      <td>2</td>\n",
       "      <td>117.626568</td>\n",
       "      <td>154.052061</td>\n",
       "      <td>0</td>\n",
       "      <td>1</td>\n",
       "      <td>173.589749</td>\n",
       "      <td>0</td>\n",
       "      <td>0.0</td>\n",
       "      <td>0</td>\n",
       "    </tr>\n",
       "    <tr>\n",
       "      <th>...</th>\n",
       "      <td>...</td>\n",
       "      <td>...</td>\n",
       "      <td>...</td>\n",
       "      <td>...</td>\n",
       "      <td>...</td>\n",
       "      <td>...</td>\n",
       "      <td>...</td>\n",
       "      <td>...</td>\n",
       "      <td>...</td>\n",
       "      <td>...</td>\n",
       "      <td>...</td>\n",
       "    </tr>\n",
       "    <tr>\n",
       "      <th>289</th>\n",
       "      <td>52</td>\n",
       "      <td>1</td>\n",
       "      <td>4</td>\n",
       "      <td>177.626568</td>\n",
       "      <td>395.947939</td>\n",
       "      <td>0</td>\n",
       "      <td>0</td>\n",
       "      <td>117.589749</td>\n",
       "      <td>1</td>\n",
       "      <td>2.5</td>\n",
       "      <td>1</td>\n",
       "    </tr>\n",
       "    <tr>\n",
       "      <th>290</th>\n",
       "      <td>54</td>\n",
       "      <td>0</td>\n",
       "      <td>3</td>\n",
       "      <td>112.373432</td>\n",
       "      <td>229.052061</td>\n",
       "      <td>0</td>\n",
       "      <td>1</td>\n",
       "      <td>123.589749</td>\n",
       "      <td>1</td>\n",
       "      <td>0.0</td>\n",
       "      <td>1</td>\n",
       "    </tr>\n",
       "    <tr>\n",
       "      <th>291</th>\n",
       "      <td>56</td>\n",
       "      <td>1</td>\n",
       "      <td>4</td>\n",
       "      <td>137.373432</td>\n",
       "      <td>406.947939</td>\n",
       "      <td>1</td>\n",
       "      <td>0</td>\n",
       "      <td>126.410251</td>\n",
       "      <td>1</td>\n",
       "      <td>3.0</td>\n",
       "      <td>1</td>\n",
       "    </tr>\n",
       "    <tr>\n",
       "      <th>292</th>\n",
       "      <td>58</td>\n",
       "      <td>0</td>\n",
       "      <td>2</td>\n",
       "      <td>162.373432</td>\n",
       "      <td>328.052061</td>\n",
       "      <td>0</td>\n",
       "      <td>0</td>\n",
       "      <td>133.589749</td>\n",
       "      <td>1</td>\n",
       "      <td>1.0</td>\n",
       "      <td>1</td>\n",
       "    </tr>\n",
       "    <tr>\n",
       "      <th>293</th>\n",
       "      <td>65</td>\n",
       "      <td>1</td>\n",
       "      <td>4</td>\n",
       "      <td>112.373432</td>\n",
       "      <td>210.052061</td>\n",
       "      <td>0</td>\n",
       "      <td>1</td>\n",
       "      <td>91.410251</td>\n",
       "      <td>1</td>\n",
       "      <td>1.0</td>\n",
       "      <td>1</td>\n",
       "    </tr>\n",
       "  </tbody>\n",
       "</table>\n",
       "<p>294 rows × 11 columns</p>\n",
       "</div>"
      ],
      "text/plain": [
       "     age  sex  cp    trestbps        chol fbs restecg     thalach exang  \\\n",
       "0     28    1   2  147.626568   67.052061   0       2  161.410251     0   \n",
       "1     29    1   2  137.626568  178.052061   0       0  183.589749     0   \n",
       "2     29    1   2  157.626568  315.796648   0       0  146.410251     0   \n",
       "3     30    0   1  152.373432  172.052061   0       1  146.410251     0   \n",
       "4     31    0   2  117.626568  154.052061   0       1  173.589749     0   \n",
       "..   ...  ...  ..         ...         ...  ..     ...         ...   ...   \n",
       "289   52    1   4  177.626568  395.947939   0       0  117.589749     1   \n",
       "290   54    0   3  112.373432  229.052061   0       1  123.589749     1   \n",
       "291   56    1   4  137.373432  406.947939   1       0  126.410251     1   \n",
       "292   58    0   2  162.373432  328.052061   0       0  133.589749     1   \n",
       "293   65    1   4  112.373432  210.052061   0       1   91.410251     1   \n",
       "\n",
       "     oldpeak  num         \n",
       "0        0.0           0  \n",
       "1        0.0           0  \n",
       "2        0.0           0  \n",
       "3        0.0           0  \n",
       "4        0.0           0  \n",
       "..       ...         ...  \n",
       "289      2.5           1  \n",
       "290      0.0           1  \n",
       "291      3.0           1  \n",
       "292      1.0           1  \n",
       "293      1.0           1  \n",
       "\n",
       "[294 rows x 11 columns]"
      ]
     },
     "execution_count": 77,
     "metadata": {},
     "output_type": "execute_result"
    }
   ],
   "source": [
    "# Generating Enhanced Data\r\n",
    "\r\n",
    "data.head()\r\n",
    "gen_data = data_enhancement_1(data)\r\n",
    "\r\n",
    "gen_data"
   ]
  },
  {
   "cell_type": "code",
   "execution_count": 78,
   "metadata": {},
   "outputs": [
    {
     "name": "stdout",
     "output_type": "stream",
     "text": [
      "x_train shape before concat: 235\n",
      "y_train shape before concat: 235\n",
      "x_train shape after concat: 323\n",
      "y_train shape after concat: 323\n"
     ]
    }
   ],
   "source": [
    "# Train Test Split & Concatenation of Train sample & Enhanced Sample\r\n",
    "\r\n",
    "# 1. Train Test Split\r\n",
    "from sklearn.model_selection import train_test_split\r\n",
    "\r\n",
    "\r\n",
    "#       Variable Determination\r\n",
    "x = data.iloc[:,:-1]\r\n",
    "y = data.iloc[:,-1]\r\n",
    "\r\n",
    "#       Splitting\r\n",
    "x_train, x_test, y_train, y_test = train_test_split(x, y,\r\n",
    "                                                    test_size = 0.2,\r\n",
    "                                                    stratify = y,\r\n",
    "                                                    random_state = 0\r\n",
    "                                                    )\r\n",
    "\r\n",
    "print(f'x_train shape before concat: {x_train.shape[0]}')\r\n",
    "print(f'y_train shape before concat: {y_train.shape[0]}')\r\n",
    "\r\n",
    "# 2. Concatenation\r\n",
    "extra_sample = gen_data.sample(math.floor(gen_data.shape[0] * 30 / 100))\r\n",
    "x_train_enhanced = pd.concat([x_train, extra_sample.iloc[:,:-1]])\r\n",
    "y_train_enhanced = pd.concat([y_train, extra_sample.iloc[:,-1]])\r\n",
    "\r\n",
    "print(f'x_train shape after concat: {x_train_enhanced.shape[0]}')\r\n",
    "print(f'y_train shape after concat: {y_train_enhanced.shape[0]}')\r\n",
    "\r\n",
    "\r\n"
   ]
  },
  {
   "cell_type": "code",
   "execution_count": null,
   "metadata": {},
   "outputs": [],
   "source": []
  },
  {
   "cell_type": "code",
   "execution_count": null,
   "metadata": {},
   "outputs": [],
   "source": []
  },
  {
   "cell_type": "code",
   "execution_count": null,
   "metadata": {},
   "outputs": [],
   "source": []
  }
 ],
 "metadata": {
  "interpreter": {
   "hash": "850c152f8f84f3548ed5f09fd834180be13dced819bcdf283d955f3afcab8cf5"
  },
  "kernelspec": {
   "display_name": "Python 3.8.10 64-bit ('myenv': conda)",
   "name": "python3"
  },
  "language_info": {
   "name": "python",
   "version": ""
  },
  "orig_nbformat": 4
 },
 "nbformat": 4,
 "nbformat_minor": 2
}